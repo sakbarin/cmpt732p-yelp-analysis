{
 "cells": [
  {
   "cell_type": "code",
   "execution_count": 189,
   "metadata": {},
   "outputs": [],
   "source": [
    "import ast \n",
    "import json\n",
    "from pyspark.sql import SparkSession, SQLContext, functions, types\n",
    "from google.cloud import storage\n",
    "import seaborn as sns\n",
    "import matplotlib.pyplot as plt"
   ]
  },
  {
   "cell_type": "code",
   "execution_count": 11,
   "metadata": {},
   "outputs": [],
   "source": [
    "bucket_name = 'sa-yelp-dataset'\n",
    "bucket_path = 'gs://sa-yelp-dataset'"
   ]
  },
  {
   "cell_type": "code",
   "execution_count": 12,
   "metadata": {},
   "outputs": [
    {
     "name": "stdout",
     "output_type": "stream",
     "text": [
      "<Blob: sa-yelp-dataset, yelp_academic_ca_provinces.json, 1606496025167812>\n",
      "<Blob: sa-yelp-dataset, yelp_academic_dataset_business.json, 1605935606649005>\n",
      "<Blob: sa-yelp-dataset, yelp_academic_dataset_checkin.json, 1605936241859751>\n",
      "<Blob: sa-yelp-dataset, yelp_academic_dataset_review.json, 1605980374655635>\n",
      "<Blob: sa-yelp-dataset, yelp_academic_dataset_tip.json, 1605980751339428>\n",
      "<Blob: sa-yelp-dataset, yelp_academic_dataset_user.json, 1605987064578747>\n"
     ]
    }
   ],
   "source": [
    "gcs_client = storage.Client()\n",
    "bucket = gcs_client.bucket(bucket_name)\n",
    "\n",
    "for obj in list(bucket.list_blobs(prefix='yelp_academic')):\n",
    "    print(obj)"
   ]
  },
  {
   "cell_type": "code",
   "execution_count": 16,
   "metadata": {},
   "outputs": [
    {
     "name": "stdout",
     "output_type": "stream",
     "text": [
      "Found 9 items\r\n",
      "drwx------   - root root          0 1970-01-01 00:00 gs://sa-yelp-dataset/.ipynb_checkpoints\r\n",
      "drwx------   - root root          0 1970-01-01 00:00 gs://sa-yelp-dataset/google-cloud-dataproc-metainfo\r\n",
      "drwx------   - root root          0 2020-11-21 06:14 gs://sa-yelp-dataset/notebooks\r\n",
      "-rwx------   3 root root        535 2020-11-27 16:53 gs://sa-yelp-dataset/yelp_academic_ca_provinces.json\r\n",
      "-rwx------   3 root root  152898689 2020-11-21 05:13 gs://sa-yelp-dataset/yelp_academic_dataset_business.json\r\n",
      "-rwx------   3 root root  449663480 2020-11-21 05:24 gs://sa-yelp-dataset/yelp_academic_dataset_checkin.json\r\n",
      "-rwx------   3 root root 6325565224 2020-11-21 17:39 gs://sa-yelp-dataset/yelp_academic_dataset_review.json\r\n",
      "-rwx------   3 root root  263489322 2020-11-21 17:45 gs://sa-yelp-dataset/yelp_academic_dataset_tip.json\r\n",
      "-rwx------   3 root root 3268069927 2020-11-21 19:31 gs://sa-yelp-dataset/yelp_academic_dataset_user.json\r\n"
     ]
    }
   ],
   "source": [
    "!hdfs dfs -ls 'gs://sa-yelp-dataset'"
   ]
  },
  {
   "cell_type": "code",
   "execution_count": 32,
   "metadata": {},
   "outputs": [
    {
     "name": "stdout",
     "output_type": "stream",
     "text": [
      "Scala code runner version 2.12.10 -- Copyright 2002-2019, LAMP/EPFL and Lightbend, Inc.\r\n"
     ]
    }
   ],
   "source": [
    "!scala -version"
   ]
  },
  {
   "cell_type": "code",
   "execution_count": 4,
   "metadata": {},
   "outputs": [],
   "source": [
    "spark = SparkSession.builder.appName('YelpAnalysis')\\\n",
    "    .config('spark.jars.packages', 'com.google.cloud.spark:spark-bigquery-with-dependencies_2.12:0.15.1-beta') \\\n",
    "    .getOrCreate()"
   ]
  },
  {
   "cell_type": "markdown",
   "metadata": {},
   "source": [
    "## Process yelp_academic_dataset_business.csv file"
   ]
  },
  {
   "cell_type": "code",
   "execution_count": 18,
   "metadata": {},
   "outputs": [
    {
     "name": "stdout",
     "output_type": "stream",
     "text": [
      "+----+-------------------------+\n",
      "|code|province                 |\n",
      "+----+-------------------------+\n",
      "|ON  |Ontario                  |\n",
      "|QC  |Quebec                   |\n",
      "|NS  |Nova Scotia              |\n",
      "|NB  |New Brunswich            |\n",
      "|MB  |Manitoba                 |\n",
      "|BC  |British Columbia         |\n",
      "|PE  |Prince Edward Island     |\n",
      "|SK  |Saskatchewan             |\n",
      "|AB  |Alberta                  |\n",
      "|NL  |Newfoundland and Labrador|\n",
      "|NT  |Northwest Territories    |\n",
      "|YT  |Yukon                    |\n",
      "|NU  |Nunavut                  |\n",
      "+----+-------------------------+\n",
      "\n"
     ]
    }
   ],
   "source": [
    "df_provinces = spark.read.json(f'{bucket_path}/yelp_academic_ca_provinces.json')\n",
    "df_provinces.createOrReplaceTempView('VW_Province')\n",
    "\n",
    "spark.sql('SELECT * FROM VW_Province').show(truncate=False)"
   ]
  },
  {
   "cell_type": "code",
   "execution_count": 19,
   "metadata": {},
   "outputs": [],
   "source": [
    "SCHEMA = types.StructType([\n",
    "    types.StructField(\"address\", types.StringType()),\n",
    "    types.StructField(\"attributes\", types.StringType()),\n",
    "    types.StructField(\"business_id\", types.StringType()),\n",
    "    types.StructField(\"categories\", types.StringType()),\n",
    "    types.StructField(\"city\", types.StringType()),\n",
    "    types.StructField(\"hours\", types.StringType()),\n",
    "    types.StructField(\"is_open\", types.LongType()),\n",
    "    types.StructField(\"latitude\", types.DoubleType()),\n",
    "    types.StructField(\"longitude\", types.DoubleType()),\n",
    "    types.StructField(\"name\", types.StringType()),\n",
    "    types.StructField(\"postal_code\", types.StringType()),\n",
    "    types.StructField(\"review_count\", types.LongType()),\n",
    "    types.StructField(\"stars\", types.DoubleType()),\n",
    "    types.StructField(\"state\", types.StringType()),\n",
    "])"
   ]
  },
  {
   "cell_type": "code",
   "execution_count": 70,
   "metadata": {},
   "outputs": [],
   "source": [
    "df_business = spark.read.json(f'{bucket_path}/yelp_academic_dataset_business.json')\n",
    "df_business.createOrReplaceTempView(\"VW_Business\")"
   ]
  },
  {
   "cell_type": "code",
   "execution_count": 71,
   "metadata": {},
   "outputs": [
    {
     "name": "stdout",
     "output_type": "stream",
     "text": [
      "root\n",
      " |-- address: string (nullable = true)\n",
      " |-- attributes: struct (nullable = true)\n",
      " |    |-- AcceptsInsurance: string (nullable = true)\n",
      " |    |-- AgesAllowed: string (nullable = true)\n",
      " |    |-- Alcohol: string (nullable = true)\n",
      " |    |-- Ambience: string (nullable = true)\n",
      " |    |-- BYOB: string (nullable = true)\n",
      " |    |-- BYOBCorkage: string (nullable = true)\n",
      " |    |-- BestNights: string (nullable = true)\n",
      " |    |-- BikeParking: string (nullable = true)\n",
      " |    |-- BusinessAcceptsBitcoin: string (nullable = true)\n",
      " |    |-- BusinessAcceptsCreditCards: string (nullable = true)\n",
      " |    |-- BusinessParking: string (nullable = true)\n",
      " |    |-- ByAppointmentOnly: string (nullable = true)\n",
      " |    |-- Caters: string (nullable = true)\n",
      " |    |-- CoatCheck: string (nullable = true)\n",
      " |    |-- Corkage: string (nullable = true)\n",
      " |    |-- DietaryRestrictions: string (nullable = true)\n",
      " |    |-- DogsAllowed: string (nullable = true)\n",
      " |    |-- DriveThru: string (nullable = true)\n",
      " |    |-- GoodForDancing: string (nullable = true)\n",
      " |    |-- GoodForKids: string (nullable = true)\n",
      " |    |-- GoodForMeal: string (nullable = true)\n",
      " |    |-- HairSpecializesIn: string (nullable = true)\n",
      " |    |-- HappyHour: string (nullable = true)\n",
      " |    |-- HasTV: string (nullable = true)\n",
      " |    |-- Music: string (nullable = true)\n",
      " |    |-- NoiseLevel: string (nullable = true)\n",
      " |    |-- Open24Hours: string (nullable = true)\n",
      " |    |-- OutdoorSeating: string (nullable = true)\n",
      " |    |-- RestaurantsAttire: string (nullable = true)\n",
      " |    |-- RestaurantsCounterService: string (nullable = true)\n",
      " |    |-- RestaurantsDelivery: string (nullable = true)\n",
      " |    |-- RestaurantsGoodForGroups: string (nullable = true)\n",
      " |    |-- RestaurantsPriceRange2: string (nullable = true)\n",
      " |    |-- RestaurantsReservations: string (nullable = true)\n",
      " |    |-- RestaurantsTableService: string (nullable = true)\n",
      " |    |-- RestaurantsTakeOut: string (nullable = true)\n",
      " |    |-- Smoking: string (nullable = true)\n",
      " |    |-- WheelchairAccessible: string (nullable = true)\n",
      " |    |-- WiFi: string (nullable = true)\n",
      " |-- business_id: string (nullable = true)\n",
      " |-- categories: string (nullable = true)\n",
      " |-- city: string (nullable = true)\n",
      " |-- hours: struct (nullable = true)\n",
      " |    |-- Friday: string (nullable = true)\n",
      " |    |-- Monday: string (nullable = true)\n",
      " |    |-- Saturday: string (nullable = true)\n",
      " |    |-- Sunday: string (nullable = true)\n",
      " |    |-- Thursday: string (nullable = true)\n",
      " |    |-- Tuesday: string (nullable = true)\n",
      " |    |-- Wednesday: string (nullable = true)\n",
      " |-- is_open: long (nullable = true)\n",
      " |-- latitude: double (nullable = true)\n",
      " |-- longitude: double (nullable = true)\n",
      " |-- name: string (nullable = true)\n",
      " |-- postal_code: string (nullable = true)\n",
      " |-- review_count: long (nullable = true)\n",
      " |-- stars: double (nullable = true)\n",
      " |-- state: string (nullable = true)\n",
      "\n"
     ]
    }
   ],
   "source": [
    "df_business.printSchema()"
   ]
  },
  {
   "cell_type": "code",
   "execution_count": 393,
   "metadata": {},
   "outputs": [
    {
     "name": "stdout",
     "output_type": "stream",
     "text": [
      "+-----+-----------+\n",
      "|STATE|STATE_COUNT|\n",
      "+-----+-----------+\n",
      "|   AZ|      60803|\n",
      "|   NV|      39084|\n",
      "|   ON|      36627|\n",
      "|   OH|      16392|\n",
      "|   NC|      16218|\n",
      "|   PA|      12376|\n",
      "|   QC|      10233|\n",
      "|   AB|       8682|\n",
      "|   WI|       5525|\n",
      "|   IL|       2034|\n",
      "+-----+-----------+\n",
      "only showing top 10 rows\n",
      "\n"
     ]
    }
   ],
   "source": [
    "spark.sql('''SELECT STATE, COUNT(*) AS STATE_COUNT\n",
    "                FROM VW_Business \n",
    "                GROUP BY STATE\n",
    "                ORDER BY 2 DESC''').show(10)"
   ]
  },
  {
   "cell_type": "code",
   "execution_count": 394,
   "metadata": {},
   "outputs": [],
   "source": [
    "df_business_CA = spark.sql('''\n",
    "                            SELECT\n",
    "                                BUSINESS_ID,\n",
    "                                NAME,\n",
    "                                STATE,\n",
    "                                CITY,\n",
    "                                POSTAL_CODE,\n",
    "                                LATITUDE,\n",
    "                                LONGITUDE,\n",
    "                                CATEGORIES,\n",
    "                                ATTRIBUTES\n",
    "                            FROM\n",
    "                                VW_Business VB \n",
    "                                    INNER JOIN VW_Province VP ON VB.STATE = VP.CODE\n",
    "                            WHERE\n",
    "                                    IS_OPEN = '1'\n",
    "                                AND POSTAL_CODE IS NOT NULL\n",
    "                                AND LENGTH(POSTAL_CODE) = 7\n",
    "                                AND LATITUDE IS NOT NULL\n",
    "                                AND LONGITUDE IS NOT NULL\n",
    "                                AND STARS IS NOT NULL\n",
    "                                AND REVIEW_COUNT IS NOT NULL\n",
    "                                AND CATEGORIES IS NOT NULL\n",
    "                                AND ATTRIBUTES IS NOT NULL\n",
    "                            ''').cache()\n",
    "\n",
    "df_business_CA.createOrReplaceTempView('VW_BUSINESS_CA')"
   ]
  },
  {
   "cell_type": "code",
   "execution_count": 396,
   "metadata": {},
   "outputs": [
    {
     "name": "stdout",
     "output_type": "stream",
     "text": [
      "+--------------------+------------------+-----+-------------+-----------+-------------+--------------+--------------------+--------------------+\n",
      "|         BUSINESS_ID|              NAME|STATE|         CITY|POSTAL_CODE|     LATITUDE|     LONGITUDE|          CATEGORIES|          ATTRIBUTES|\n",
      "+--------------------+------------------+-----+-------------+-----------+-------------+--------------+--------------------+--------------------+\n",
      "|EosRKXIGeSWFYWwpk...|    Xtreme Couture|   ON|      Toronto|    M8Z 5G3|43.6245394916|-79.5291079302|Martial Arts, Gym...|[,,,,,,, False,,,...|\n",
      "|eBEfgOPG7pvFhb2wc...|   Philthy Phillys|   ON|       Aurora|    L4G 7J1|   44.0109618|    -79.448677|Restaurants, Chee...|[,, u'none',,,,, ...|\n",
      "|lu7vtrp_bE9PnxWfA...|      Banzai Sushi|   ON|    Thornhill|    L3T 5W4|   43.8204923|   -79.3984661|Japanese, Fast Fo...|[,, u'none',,,,,,...|\n",
      "|1wWneWD_E1pBIyVpd...|  Air Jordan Store|   ON|      Toronto|    M5B 1R4|   43.6565424|   -79.3813076|Shopping, Shoe St...|[,,,,,,, True,,, ...|\n",
      "|9sRGfSVEfLhN_km60...|Apadana Restaurant|   ON|Richmond Hill|    L4E 1A5|43.9470107964| -79.454861645|Persian/Iranian, ...|[,, u'full_bar', ...|\n",
      "+--------------------+------------------+-----+-------------+-----------+-------------+--------------+--------------------+--------------------+\n",
      "only showing top 5 rows\n",
      "\n"
     ]
    }
   ],
   "source": [
    "spark.sql('SELECT * FROM VW_BUSINESS_CA').show(5)"
   ]
  },
  {
   "cell_type": "code",
   "execution_count": 398,
   "metadata": {},
   "outputs": [
    {
     "name": "stdout",
     "output_type": "stream",
     "text": [
      "+-----+-----------+\n",
      "|STATE|STATE_COUNT|\n",
      "+-----+-----------+\n",
      "|   ON|      22575|\n",
      "|   QC|       7099|\n",
      "|   AB|       5317|\n",
      "|   BC|          2|\n",
      "|   MB|          1|\n",
      "|   YT|          1|\n",
      "+-----+-----------+\n",
      "\n"
     ]
    }
   ],
   "source": [
    "spark.sql('''SELECT STATE, COUNT(*) AS STATE_COUNT \n",
    "                FROM VW_BUSINESS_CA \n",
    "                GROUP BY STATE \n",
    "                ORDER BY 2 DESC''').show(10)"
   ]
  },
  {
   "cell_type": "code",
   "execution_count": 400,
   "metadata": {
    "scrolled": false
   },
   "outputs": [
    {
     "name": "stdout",
     "output_type": "stream",
     "text": [
      "+-----+-------------+----------+\n",
      "|STATE|         CITY|CITY_COUNT|\n",
      "+-----+-------------+----------+\n",
      "|   ON|      Toronto|     12073|\n",
      "|   AB|      Calgary|      5127|\n",
      "|   QC|     Montréal|      4695|\n",
      "|   ON|  Mississauga|      2324|\n",
      "|   ON|      Markham|      1224|\n",
      "|   ON|   North York|       817|\n",
      "|   ON|  Scarborough|       774|\n",
      "|   ON|     Brampton|       768|\n",
      "|   ON|Richmond Hill|       690|\n",
      "|   ON|      Vaughan|       686|\n",
      "+-----+-------------+----------+\n",
      "only showing top 10 rows\n",
      "\n"
     ]
    }
   ],
   "source": [
    "spark.sql('''SELECT STATE, CITY, COUNT(*) AS CITY_COUNT \n",
    "                FROM VW_BUSINESS_CA\n",
    "                GROUP BY STATE, CITY \n",
    "                ORDER BY 3 DESC''').show(10)"
   ]
  },
  {
   "cell_type": "code",
   "execution_count": 31,
   "metadata": {
    "scrolled": false
   },
   "outputs": [
    {
     "name": "stdout",
     "output_type": "stream",
     "text": [
      "+----------------------+---------------------+\n",
      "|BUSINESS_ID           |CATEGORY             |\n",
      "+----------------------+---------------------+\n",
      "|EosRKXIGeSWFYWwpkbhNnA|Martial Arts         |\n",
      "|EosRKXIGeSWFYWwpkbhNnA|Gyms                 |\n",
      "|EosRKXIGeSWFYWwpkbhNnA|Fitness & Instruction|\n",
      "|EosRKXIGeSWFYWwpkbhNnA|Active Life          |\n",
      "|eBEfgOPG7pvFhb2wcG9I7w|Restaurants          |\n",
      "|eBEfgOPG7pvFhb2wcG9I7w|Cheesesteaks         |\n",
      "|eBEfgOPG7pvFhb2wcG9I7w|Poutineries          |\n",
      "|lu7vtrp_bE9PnxWfA8g4Pg|Japanese             |\n",
      "|lu7vtrp_bE9PnxWfA8g4Pg|Fast Food            |\n",
      "|lu7vtrp_bE9PnxWfA8g4Pg|Food Court           |\n",
      "|lu7vtrp_bE9PnxWfA8g4Pg|Restaurants          |\n",
      "|1wWneWD_E1pBIyVpdHMaQg|Shopping             |\n",
      "|1wWneWD_E1pBIyVpdHMaQg|Shoe Stores          |\n",
      "|1wWneWD_E1pBIyVpdHMaQg|Fashion              |\n",
      "|9sRGfSVEfLhN_km60YruTA|Persian/Iranian      |\n",
      "|9sRGfSVEfLhN_km60YruTA|Turkish              |\n",
      "|9sRGfSVEfLhN_km60YruTA|Middle Eastern       |\n",
      "|9sRGfSVEfLhN_km60YruTA|Restaurants          |\n",
      "|9sRGfSVEfLhN_km60YruTA|Kebab                |\n",
      "|pcaQDBM6r0PWTXfYZK6RdA|Food                 |\n",
      "+----------------------+---------------------+\n",
      "only showing top 20 rows\n",
      "\n"
     ]
    }
   ],
   "source": [
    "df_business_CA_cat = spark.sql('''\n",
    "                                SELECT \n",
    "                                    BUSINESS_ID,\n",
    "                                    TRIM(CATEGORY) as CATEGORY\n",
    "                                FROM\n",
    "                                    (\n",
    "                                    SELECT \n",
    "                                        BUSINESS_ID, \n",
    "                                        EXPLODE(SPLIT(CATEGORIES, ',')) as CATEGORY\n",
    "                                    FROM\n",
    "                                        VW_BUSINESS_CA)\n",
    "                                ''')\n",
    "\n",
    "df_business_CA_cat.createOrReplaceTempView('VW_BUSINESS_CA_CAT')\n",
    "\n",
    "spark.sql('''SELECT * FROM VW_BUSINESS_CA_CAT''').show(20, False)"
   ]
  },
  {
   "cell_type": "code",
   "execution_count": 401,
   "metadata": {},
   "outputs": [
    {
     "name": "stdout",
     "output_type": "stream",
     "text": [
      "+--------------------+--------------+\n",
      "|            CATEGORY|CATEGORY_COUNT|\n",
      "+--------------------+--------------+\n",
      "|         Restaurants|         16711|\n",
      "|                Food|          8525|\n",
      "|            Shopping|          6077|\n",
      "|       Beauty & Spas|          3810|\n",
      "|           Nightlife|          2949|\n",
      "|        Coffee & Tea|          2665|\n",
      "|                Bars|          2623|\n",
      "|    Health & Medical|          2071|\n",
      "|Event Planning & ...|          1841|\n",
      "|           Fast Food|          1697|\n",
      "+--------------------+--------------+\n",
      "only showing top 10 rows\n",
      "\n"
     ]
    }
   ],
   "source": [
    "spark.sql('''SELECT CATEGORY, COUNT(*) AS CATEGORY_COUNT \n",
    "                FROM VW_BUSINESS_CA_CAT \n",
    "                GROUP BY CATEGORY\n",
    "                ORDER BY 2 DESC''').show(10)"
   ]
  },
  {
   "cell_type": "code",
   "execution_count": 402,
   "metadata": {},
   "outputs": [
    {
     "name": "stdout",
     "output_type": "stream",
     "text": [
      "['AcceptsInsurance', 'AgesAllowed', 'Alcohol', 'Ambience', 'BYOB', 'BYOBCorkage', 'BestNights', 'BikeParking', 'BusinessAcceptsBitcoin', 'BusinessAcceptsCreditCards', 'BusinessParking', 'ByAppointmentOnly', 'Caters', 'CoatCheck', 'Corkage', 'DietaryRestrictions', 'DogsAllowed', 'DriveThru', 'GoodForDancing', 'GoodForKids', 'GoodForMeal', 'HairSpecializesIn', 'HappyHour', 'HasTV', 'Music', 'NoiseLevel', 'Open24Hours', 'OutdoorSeating', 'RestaurantsAttire', 'RestaurantsCounterService', 'RestaurantsDelivery', 'RestaurantsGoodForGroups', 'RestaurantsPriceRange2', 'RestaurantsReservations', 'RestaurantsTableService', 'RestaurantsTakeOut', 'Smoking', 'WheelchairAccessible', 'WiFi']\n"
     ]
    }
   ],
   "source": [
    "def get_attribute_keys(struct_name):\n",
    "    fields = json.loads(df_business_CA.schema.json())['fields']\n",
    "\n",
    "    attributes = []\n",
    "\n",
    "    for field in fields:\n",
    "        if (field['name'] == struct_name):\n",
    "\n",
    "            sub_fields = field['type']['fields']\n",
    "\n",
    "            for sub_field in sub_fields:\n",
    "                attributes += [sub_field['name']]\n",
    "    \n",
    "    return attributes\n",
    "\n",
    "attributes = get_attribute_keys('ATTRIBUTES')\n",
    "\n",
    "print(attributes)"
   ]
  },
  {
   "cell_type": "code",
   "execution_count": 184,
   "metadata": {
    "scrolled": false
   },
   "outputs": [
    {
     "name": "stdout",
     "output_type": "stream",
     "text": [
      "+----------------------+--------------------------+--------+\n",
      "|BUSINESS_ID           |ATTR_KEY                  |ATTR_VAL|\n",
      "+----------------------+--------------------------+--------+\n",
      "|EosRKXIGeSWFYWwpkbhNnA|AcceptsInsurance          |None    |\n",
      "|EosRKXIGeSWFYWwpkbhNnA|AgesAllowed               |None    |\n",
      "|EosRKXIGeSWFYWwpkbhNnA|Alcohol                   |None    |\n",
      "|EosRKXIGeSWFYWwpkbhNnA|Ambience                  |None    |\n",
      "|EosRKXIGeSWFYWwpkbhNnA|BYOB                      |None    |\n",
      "|EosRKXIGeSWFYWwpkbhNnA|BYOBCorkage               |None    |\n",
      "|EosRKXIGeSWFYWwpkbhNnA|BestNights                |None    |\n",
      "|EosRKXIGeSWFYWwpkbhNnA|BikeParking               |False   |\n",
      "|EosRKXIGeSWFYWwpkbhNnA|BusinessAcceptsBitcoin    |None    |\n",
      "|EosRKXIGeSWFYWwpkbhNnA|BusinessAcceptsCreditCards|None    |\n",
      "|EosRKXIGeSWFYWwpkbhNnA|BusinessParking_garage    |False   |\n",
      "|EosRKXIGeSWFYWwpkbhNnA|BusinessParking_street    |False   |\n",
      "|EosRKXIGeSWFYWwpkbhNnA|BusinessParking_validated |False   |\n",
      "|EosRKXIGeSWFYWwpkbhNnA|BusinessParking_lot       |False   |\n",
      "|EosRKXIGeSWFYWwpkbhNnA|BusinessParking_valet     |False   |\n",
      "|EosRKXIGeSWFYWwpkbhNnA|ByAppointmentOnly         |True    |\n",
      "|EosRKXIGeSWFYWwpkbhNnA|Caters                    |None    |\n",
      "|EosRKXIGeSWFYWwpkbhNnA|CoatCheck                 |None    |\n",
      "|EosRKXIGeSWFYWwpkbhNnA|Corkage                   |None    |\n",
      "|EosRKXIGeSWFYWwpkbhNnA|DietaryRestrictions       |None    |\n",
      "|EosRKXIGeSWFYWwpkbhNnA|DogsAllowed               |None    |\n",
      "|EosRKXIGeSWFYWwpkbhNnA|DriveThru                 |None    |\n",
      "|EosRKXIGeSWFYWwpkbhNnA|GoodForDancing            |None    |\n",
      "|EosRKXIGeSWFYWwpkbhNnA|GoodForKids               |True    |\n",
      "|EosRKXIGeSWFYWwpkbhNnA|GoodForMeal               |None    |\n",
      "|EosRKXIGeSWFYWwpkbhNnA|HairSpecializesIn         |None    |\n",
      "|EosRKXIGeSWFYWwpkbhNnA|HappyHour                 |None    |\n",
      "|EosRKXIGeSWFYWwpkbhNnA|HasTV                     |None    |\n",
      "|EosRKXIGeSWFYWwpkbhNnA|Music                     |None    |\n",
      "|EosRKXIGeSWFYWwpkbhNnA|NoiseLevel                |None    |\n",
      "+----------------------+--------------------------+--------+\n",
      "only showing top 30 rows\n",
      "\n"
     ]
    }
   ],
   "source": [
    "@functions.udf(returnType=types.StringType())\n",
    "def flatten_attributes(col_data):\n",
    "    output = {}\n",
    "\n",
    "    for attribute in attributes:\n",
    "        if (col_data[attribute] == None):\n",
    "            output[attribute] = None\n",
    "        elif str(col_data[attribute]).startswith('{'):\n",
    "            col_sub_data = str(col_data[attribute]).split(',')\n",
    "            \n",
    "            for sub_data in col_sub_data:\n",
    "                if (len(sub_data.split(':')) == 2):\n",
    "                    sub_attr_key = sub_data.split(':')[0].replace('{', '').replace('\\'', '').strip()\n",
    "                    sub_attr_val = sub_data.split(':')[1].replace('}', '').replace('\\'', '').strip()\n",
    "                    output[attribute + \"_\" + sub_attr_key] = sub_attr_val\n",
    "        else:\n",
    "            output[attribute] = col_data[attribute]\n",
    "\n",
    "    return str(output) \\\n",
    "                .replace('{', '') \\\n",
    "                .replace('}','') \\\n",
    "                .replace('\\'', '')\n",
    "\n",
    "spark.udf.register(\"FLATTEN\", flatten_attributes)\n",
    "\n",
    "df_business_CA_attr = spark.sql('''\n",
    "                                SELECT\n",
    "                                    BUSINESS_ID,\n",
    "                                    REPLACE(SPLIT(TRIM(ATTRIBUTE), ':')[0], \"'\", \"\") AS ATTR_KEY,\n",
    "                                    TRIM(SPLIT(ATTRIBUTE, ':')[1]) AS ATTR_VAL\n",
    "                                FROM\n",
    "                                (\n",
    "                                    SELECT\n",
    "                                        BUSINESS_ID,\n",
    "                                        EXPLODE(SPLIT(FLATTEN(ATTRIBUTES), ',')) AS ATTRIBUTE\n",
    "                                    FROM \n",
    "                                        VW_BUSINESS_CA\n",
    "                                )''')\n",
    "\n",
    "df_business_CA_attr.createOrReplaceTempView('VW_BUSINESS_CA_ATTR')\n",
    "\n",
    "spark.sql(\"SELECT * FROM VW_BUSINESS_CA_ATTR\").show(30, False)"
   ]
  },
  {
   "cell_type": "code",
   "execution_count": 187,
   "metadata": {},
   "outputs": [
    {
     "name": "stdout",
     "output_type": "stream",
     "text": [
      "+--------+--------------+\n",
      "|ATTR_VAL|BUSINESS_COUNT|\n",
      "+--------+--------------+\n",
      "|    None|         21338|\n",
      "|   False|          2405|\n",
      "|    True|         11252|\n",
      "+--------+--------------+\n",
      "\n"
     ]
    }
   ],
   "source": [
    "spark.sql('''\n",
    "            SELECT ATTR_VAL, COUNT(*) AS BUSINESS_COUNT\n",
    "            FROM VW_BUSINESS_CA_ATTR\n",
    "            WHERE ATTR_KEY = 'HasTV'\n",
    "            GROUP BY ATTR_VAL\n",
    "        ''').show()"
   ]
  },
  {
   "cell_type": "code",
   "execution_count": 274,
   "metadata": {
    "scrolled": true
   },
   "outputs": [],
   "source": [
    "def write_to_bq(df, temp_bucket_name, ds_name, tbl_name):\n",
    "    df.write \\\n",
    "        .format('bigquery') \\\n",
    "        .option('table', f'{ds_name}.{tbl_name}') \\\n",
    "        .option(\"temporaryGcsBucket\", temp_bucket_name) \\\n",
    "        .mode('overwrite') \\\n",
    "        .save()"
   ]
  },
  {
   "cell_type": "code",
   "execution_count": 403,
   "metadata": {},
   "outputs": [
    {
     "name": "stdout",
     "output_type": "stream",
     "text": [
      "+--------------------+--------------------+-----+-------------+-----------+-------------+--------------+\n",
      "|         BUSINESS_ID|                NAME|STATE|         CITY|POSTAL_CODE|     LATITUDE|     LONGITUDE|\n",
      "+--------------------+--------------------+-----+-------------+-----------+-------------+--------------+\n",
      "|EosRKXIGeSWFYWwpk...|      Xtreme Couture|   ON|      Toronto|    M8Z 5G3|43.6245394916|-79.5291079302|\n",
      "|eBEfgOPG7pvFhb2wc...|     Philthy Phillys|   ON|       Aurora|    L4G 7J1|   44.0109618|    -79.448677|\n",
      "|lu7vtrp_bE9PnxWfA...|        Banzai Sushi|   ON|    Thornhill|    L3T 5W4|   43.8204923|   -79.3984661|\n",
      "|1wWneWD_E1pBIyVpd...|    Air Jordan Store|   ON|      Toronto|    M5B 1R4|   43.6565424|   -79.3813076|\n",
      "|9sRGfSVEfLhN_km60...|  Apadana Restaurant|   ON|Richmond Hill|    L4E 1A5|43.9470107964| -79.454861645|\n",
      "|pcaQDBM6r0PWTXfYZ...|           IGA Extra|   QC|      Lasalle|    H8P 1B4|   45.4256452|   -73.6119339|\n",
      "|LoRef3ChgZKbxUio-...|                Amir|   QC|     Montréal|    H4P 2A7|45.4948701572|-73.6519035927|\n",
      "|_xOeoXfPUQTNlUAhX...|           Starbucks|   QC|     Montréal|    H2P 1E2|    45.542993|    -73.640218|\n",
      "|oPfzMA_kA9NQwG-h-...|Bass Pro Shops Ou...|   ON|      Concord|    L4K 5W4|    43.824968|    -79.543494|\n",
      "|9JCjKd6eFXsAMVwou...| Bath and Body Works|   ON|      Toronto|    M1L 2L9|   43.7271887|   -79.2930079|\n",
      "+--------------------+--------------------+-----+-------------+-----------+-------------+--------------+\n",
      "only showing top 10 rows\n",
      "\n"
     ]
    }
   ],
   "source": [
    "df_business_CA_final = df_business_CA.drop('CATEGORIES', 'ATTRIBUTES')\n",
    "\n",
    "df_business_CA_final.createOrReplaceTempView('VW_BUSINESS_CA_FINAL')\n",
    "\n",
    "df_business_CA_final.show(10)"
   ]
  },
  {
   "cell_type": "code",
   "execution_count": 345,
   "metadata": {},
   "outputs": [],
   "source": [
    "write_to_bq(df_business_CA_final, bucket_name, 'yelp_dataset', 'businesses')"
   ]
  },
  {
   "cell_type": "code",
   "execution_count": 276,
   "metadata": {},
   "outputs": [],
   "source": [
    "write_to_bq(df_provinces, bucket_name, 'yelp_dataset', 'provinces')"
   ]
  },
  {
   "cell_type": "code",
   "execution_count": 277,
   "metadata": {},
   "outputs": [],
   "source": [
    "write_to_bq(df_business_CA_cat, bucket_name, 'yelp_dataset', 'categories')"
   ]
  },
  {
   "cell_type": "code",
   "execution_count": 278,
   "metadata": {},
   "outputs": [],
   "source": [
    "write_to_bq(df_business_CA_attr, bucket_name, 'yelp_dataset', 'attributes')"
   ]
  },
  {
   "cell_type": "markdown",
   "metadata": {},
   "source": [
    "## Process yelp_academic_dataset_checkin.csv file"
   ]
  },
  {
   "cell_type": "code",
   "execution_count": 289,
   "metadata": {},
   "outputs": [],
   "source": [
    "df_checkin = spark.read.json(f'{bucket_path}/yelp_academic_dataset_checkin.json')\n",
    "df_checkin.createOrReplaceTempView(\"VW_Checkin\")"
   ]
  },
  {
   "cell_type": "code",
   "execution_count": 290,
   "metadata": {},
   "outputs": [
    {
     "name": "stdout",
     "output_type": "stream",
     "text": [
      "root\n",
      " |-- business_id: string (nullable = true)\n",
      " |-- date: string (nullable = true)\n",
      "\n"
     ]
    }
   ],
   "source": [
    "df_checkin.printSchema()"
   ]
  },
  {
   "cell_type": "code",
   "execution_count": 404,
   "metadata": {},
   "outputs": [
    {
     "name": "stdout",
     "output_type": "stream",
     "text": [
      "+--------------------+--------------------+\n",
      "|         business_id|                date|\n",
      "+--------------------+--------------------+\n",
      "|--1UhMGODdWsrMast...|2016-04-26 19:49:...|\n",
      "|--6MefnULPED_I942...|2011-06-04 18:22:...|\n",
      "|--7zmmkVg-IMGaXbu...|2014-12-29 19:25:...|\n",
      "|--8LPVSo5i0Oo61X0...| 2016-07-08 16:43:30|\n",
      "|--9QQLMTbFzLJ_oT-...|2010-06-26 17:39:...|\n",
      "|--9e1ONYQuAa-CB_R...|2010-02-08 05:56:...|\n",
      "|--DaPTJW3-tB1vP-P...|2012-06-03 17:46:...|\n",
      "|--DdmeR16TRb3LsjG...|2012-11-02 21:26:...|\n",
      "|--EF5N7P70J_UYBTP...|2018-05-25 19:52:...|\n",
      "|--EX4rRznJrltyn-3...|2010-02-26 17:05:...|\n",
      "+--------------------+--------------------+\n",
      "only showing top 10 rows\n",
      "\n"
     ]
    }
   ],
   "source": [
    "df_checkin.show(10)"
   ]
  },
  {
   "cell_type": "code",
   "execution_count": 346,
   "metadata": {},
   "outputs": [],
   "source": [
    "df_checkin_valid = spark.sql('''SELECT \n",
    "                                    VW_CHECKIN.*\n",
    "                                  FROM VW_VW_CHECKIN \n",
    "                                      INNER JOIN BUSINESS_CA_FINAL ON VW_BUSINESS_CA_FINAL.BUSINESS_ID = VW_CHECKIN.BUSINESS_ID\n",
    "                              ''')\n",
    "\n",
    "df_checkin_valid.createOrReplaceTempView('VW_CHECKIN_VALID')"
   ]
  },
  {
   "cell_type": "code",
   "execution_count": 405,
   "metadata": {},
   "outputs": [
    {
     "name": "stdout",
     "output_type": "stream",
     "text": [
      "+--------------------+-------------------+\n",
      "|         BUSINESS_ID|               DATE|\n",
      "+--------------------+-------------------+\n",
      "|-VAsjhmAbKF3Pb_-8...|2013-09-09 21:24:17|\n",
      "|-VAsjhmAbKF3Pb_-8...|2013-09-11 16:10:00|\n",
      "|-VAsjhmAbKF3Pb_-8...|2013-12-07 07:54:18|\n",
      "|-VAsjhmAbKF3Pb_-8...|2014-03-07 00:14:43|\n",
      "|-VAsjhmAbKF3Pb_-8...|2014-05-28 05:52:20|\n",
      "|-VAsjhmAbKF3Pb_-8...|2014-07-06 04:49:53|\n",
      "|-VAsjhmAbKF3Pb_-8...|2014-08-18 03:37:18|\n",
      "|-VAsjhmAbKF3Pb_-8...|2014-10-21 03:39:24|\n",
      "|-VAsjhmAbKF3Pb_-8...|2015-08-23 03:42:21|\n",
      "|-VAsjhmAbKF3Pb_-8...|2015-08-23 23:07:39|\n",
      "+--------------------+-------------------+\n",
      "only showing top 10 rows\n",
      "\n"
     ]
    }
   ],
   "source": [
    "df_checkin_exp = spark.sql('''\n",
    "                            SELECT \n",
    "                                BUSINESS_ID,\n",
    "                                FROM_UNIXTIME(UNIX_TIMESTAMP(TRIM(DATE), 'yyyy-MM-dd HH:mm:ss')) AS DATE\n",
    "                            FROM (\n",
    "                                SELECT\n",
    "                                    BUSINESS_ID,\n",
    "                                    EXPLODE(SPLIT(DATE, ',')) AS DATE\n",
    "                                FROM \n",
    "                                    VW_CHECKIN_VALID)\n",
    "                            WHERE\n",
    "                                DATE IS NOT NULL\n",
    "                                AND DATE != ''\n",
    "                            ''')\n",
    "\n",
    "df_checkin_exp.show(10)"
   ]
  },
  {
   "cell_type": "code",
   "execution_count": 348,
   "metadata": {},
   "outputs": [],
   "source": [
    "write_to_bq(df_checkin_exp, bucket_name, 'yelp_dataset', 'checkins')"
   ]
  },
  {
   "cell_type": "markdown",
   "metadata": {},
   "source": [
    "## Process yelp_academic_dataset_review.csv file"
   ]
  },
  {
   "cell_type": "code",
   "execution_count": 325,
   "metadata": {},
   "outputs": [],
   "source": [
    "df_review = spark.read.json(f'{bucket_path}/yelp_academic_dataset_review.json')\n",
    "df_review.createOrReplaceTempView(\"VW_Review\")"
   ]
  },
  {
   "cell_type": "code",
   "execution_count": 370,
   "metadata": {},
   "outputs": [
    {
     "name": "stdout",
     "output_type": "stream",
     "text": [
      "root\n",
      " |-- business_id: string (nullable = true)\n",
      " |-- cool: long (nullable = true)\n",
      " |-- date: string (nullable = true)\n",
      " |-- funny: long (nullable = true)\n",
      " |-- review_id: string (nullable = true)\n",
      " |-- stars: double (nullable = true)\n",
      " |-- text: string (nullable = true)\n",
      " |-- useful: long (nullable = true)\n",
      " |-- user_id: string (nullable = true)\n",
      "\n"
     ]
    }
   ],
   "source": [
    "df_review.printSchema()"
   ]
  },
  {
   "cell_type": "code",
   "execution_count": null,
   "metadata": {},
   "outputs": [],
   "source": [
    "df_review_valid = spark.sql('''SELECT \n",
    "                                    VW_REVIEW.BUSINESS_ID,\n",
    "                                    USER_ID,\n",
    "                                    REGEXP_REPLACE(TEXT, '\\n', ' ') AS TEXT, \n",
    "                                    TO_DATE(DATE) AS DATE,\n",
    "                                    STARS,\n",
    "                                    COOL,\n",
    "                                    FUNNY,\n",
    "                                    USEFUL\n",
    "                                  FROM VW_REVIEW \n",
    "                                      INNER JOIN VW_BUSINESS_CA_FINAL ON VW_BUSINESS_CA_FINAL.BUSINESS_ID = VW_REVIEW.BUSINESS_ID\n",
    "                                  WHERE\n",
    "                                          TEXT IS NOT NULL\n",
    "                                      AND USEFUL IS NOT NULL\n",
    "                                      AND COOL IS NOT NULL\n",
    "                                      AND FUNNY IS NOT NULL\n",
    "                                      AND STARS IS NOT NULL AND STARS >= 0 AND STARS <= 5\n",
    "                              ''')\n",
    "\n",
    "df_review_valid.createOrReplaceTempView('VW_REVIEW_VALID')\n",
    "\n",
    "df_review_valid.show(5)"
   ]
  },
  {
   "cell_type": "code",
   "execution_count": 357,
   "metadata": {},
   "outputs": [],
   "source": [
    "write_to_bq(df_review_valid, bucket_name, 'yelp_dataset', 'reviews')"
   ]
  },
  {
   "cell_type": "markdown",
   "metadata": {},
   "source": [
    "## Process yelp_academic_dataset_user.csv file"
   ]
  },
  {
   "cell_type": "code",
   "execution_count": 358,
   "metadata": {},
   "outputs": [],
   "source": [
    "df_user = spark.read.json(f'{bucket_path}/yelp_academic_dataset_user.json')\n",
    "df_user.createOrReplaceTempView(\"VW_User\")"
   ]
  },
  {
   "cell_type": "code",
   "execution_count": 368,
   "metadata": {},
   "outputs": [
    {
     "name": "stdout",
     "output_type": "stream",
     "text": [
      "root\n",
      " |-- average_stars: double (nullable = true)\n",
      " |-- compliment_cool: long (nullable = true)\n",
      " |-- compliment_cute: long (nullable = true)\n",
      " |-- compliment_funny: long (nullable = true)\n",
      " |-- compliment_hot: long (nullable = true)\n",
      " |-- compliment_list: long (nullable = true)\n",
      " |-- compliment_more: long (nullable = true)\n",
      " |-- compliment_note: long (nullable = true)\n",
      " |-- compliment_photos: long (nullable = true)\n",
      " |-- compliment_plain: long (nullable = true)\n",
      " |-- compliment_profile: long (nullable = true)\n",
      " |-- compliment_writer: long (nullable = true)\n",
      " |-- cool: long (nullable = true)\n",
      " |-- elite: string (nullable = true)\n",
      " |-- fans: long (nullable = true)\n",
      " |-- friends: string (nullable = true)\n",
      " |-- funny: long (nullable = true)\n",
      " |-- name: string (nullable = true)\n",
      " |-- review_count: long (nullable = true)\n",
      " |-- useful: long (nullable = true)\n",
      " |-- user_id: string (nullable = true)\n",
      " |-- yelping_since: string (nullable = true)\n",
      "\n"
     ]
    }
   ],
   "source": [
    "df_user.printSchema()"
   ]
  },
  {
   "cell_type": "code",
   "execution_count": 407,
   "metadata": {},
   "outputs": [
    {
     "name": "stdout",
     "output_type": "stream",
     "text": [
      "+-------------+---------------+---------------+----------------+--------------+---------------+---------------+---------------+-----------------+----------------+------------------+-----------------+----+--------------------+----+--------------------+-----+--------+------------+------+--------------------+-------------------+\n",
      "|average_stars|compliment_cool|compliment_cute|compliment_funny|compliment_hot|compliment_list|compliment_more|compliment_note|compliment_photos|compliment_plain|compliment_profile|compliment_writer|cool|               elite|fans|             friends|funny|    name|review_count|useful|             user_id|      yelping_since|\n",
      "+-------------+---------------+---------------+----------------+--------------+---------------+---------------+---------------+-----------------+----------------+------------------+-----------------+----+--------------------+----+--------------------+-----+--------+------------+------+--------------------+-------------------+\n",
      "|         3.57|             22|              0|              22|             3|              1|              2|             11|                0|              15|                 1|               10| 227|                    |  14|oeMvJh94PiGQnx_6G...|  225|  Rafael|         553|   628|ntlvfPzc8eglqvk92...|2007-07-06 03:27:11|\n",
      "|         3.84|             63|              2|              63|            36|              1|              4|             33|                5|              37|                 5|               21| 400|2008,2009,2010,20...|  27|ly7EnE8leJmyqyePV...|  316|Michelle|         564|   790|FOBRPlBHa3WPHFB5q...|2008-04-28 01:29:25|\n",
      "|         3.44|             17|              1|              17|             9|              0|              6|              3|                1|               7|                 0|                4| 103|                2010|   5|Uwlk0txjQBPw_JhHs...|  125|  Martin|          60|   151|zZUnPeh2hEp0WydbA...|2008-08-28 23:40:05|\n",
      "|         3.08|              7|              0|               7|             2|              0|              1|              7|                0|              14|                 0|                2|  84|                2009|   6|iog3Nyg1i4jeumiTV...|  160|    John|         206|   233|QaELAmRcDc5TfJEyl...|2008-09-20 00:08:14|\n",
      "|         4.37|             31|              1|              31|             8|              1|              9|             22|               31|              28|                 2|               19| 512|2009,2010,2011,20...|  78|3W3ZMSthojCUirKEq...|  400|    Anne|         485|  1265|xvu8G900tezTzbbfq...|2008-08-09 00:30:27|\n",
      "+-------------+---------------+---------------+----------------+--------------+---------------+---------------+---------------+-----------------+----------------+------------------+-----------------+----+--------------------+----+--------------------+-----+--------+------------+------+--------------------+-------------------+\n",
      "only showing top 5 rows\n",
      "\n"
     ]
    }
   ],
   "source": [
    "df_user.show(5)"
   ]
  },
  {
   "cell_type": "code",
   "execution_count": 412,
   "metadata": {},
   "outputs": [],
   "source": [
    "df_user_valid = spark.sql('''\n",
    "                            SELECT\n",
    "                                VW_USER.USER_ID,\n",
    "                                NAME,\n",
    "                                COMPLIMENT_WRITER,\n",
    "                                COMPLIMENT_PROFILE,\n",
    "                                COMPLIMENT_PLAIN,\n",
    "                                COMPLIMENT_PHOTOS,\n",
    "                                COMPLIMENT_NOTE,\n",
    "                                COMPLIMENT_MORE,\n",
    "                                COMPLIMENT_LIST,\n",
    "                                COMPLIMENT_HOT,\n",
    "                                COMPLIMENT_FUNNY,\n",
    "                                COMPLIMENT_CUTE,\n",
    "                                COMPLIMENT_COOL,\n",
    "                                VW_USER.USEFUL,\n",
    "                                VW_USER.FUNNY,\n",
    "                                FRIENDS,\n",
    "                                FANS,\n",
    "                                ELITE,\n",
    "                                VW_USER.COOL,\n",
    "                                REVIEW_COUNT,\n",
    "                                AVERAGE_STARS,\n",
    "                                YELPING_SINCE\n",
    "                            FROM VW_USER \n",
    "                                INNER JOIN VW_REVIEW_VALID ON VW_REVIEW_VALID.USER_ID = VW_USER.USER_ID\n",
    "                        ''').cache()\n",
    "\n",
    "df_user_valid.createOrReplaceTempView('VW_USER_VALID')"
   ]
  },
  {
   "cell_type": "code",
   "execution_count": 413,
   "metadata": {},
   "outputs": [
    {
     "name": "stdout",
     "output_type": "stream",
     "text": [
      "+--------------------+---------+-----------------+------------------+----------------+-----------------+---------------+---------------+---------------+--------------+----------------+---------------+---------------+------+-----+--------------------+----+-----+----+------------+-------------+-------------------+\n",
      "|             USER_ID|     NAME|COMPLIMENT_WRITER|COMPLIMENT_PROFILE|COMPLIMENT_PLAIN|COMPLIMENT_PHOTOS|COMPLIMENT_NOTE|COMPLIMENT_MORE|COMPLIMENT_LIST|COMPLIMENT_HOT|COMPLIMENT_FUNNY|COMPLIMENT_CUTE|COMPLIMENT_COOL|USEFUL|FUNNY|             FRIENDS|FANS|ELITE|COOL|REVIEW_COUNT|AVERAGE_STARS|      YELPING_SINCE|\n",
      "+--------------------+---------+-----------------+------------------+----------------+-----------------+---------------+---------------+---------------+--------------+----------------+---------------+---------------+------+-----+--------------------+----+-----+----+------------+-------------+-------------------+\n",
      "|-4Anvj46CWf57KWI9...|   Cookie|                0|                 0|               0|                0|              0|              0|              0|             0|               0|              0|              0|     2|    0|kUWW9YR-2xC9YUSav...|   1|     |   2|           2|          3.5|2016-08-17 14:02:45|\n",
      "|-7JSlmBJKUQwREG_y...|Bénédicte|                0|                 0|               0|                0|              0|              0|              0|             0|               0|              0|              0|     5|    1|                None|   0|     |   1|           8|          4.5|2015-06-02 02:55:56|\n",
      "|-7JSlmBJKUQwREG_y...|Bénédicte|                0|                 0|               0|                0|              0|              0|              0|             0|               0|              0|              0|     5|    1|                None|   0|     |   1|           8|          4.5|2015-06-02 02:55:56|\n",
      "|-7JSlmBJKUQwREG_y...|Bénédicte|                0|                 0|               0|                0|              0|              0|              0|             0|               0|              0|              0|     5|    1|                None|   0|     |   1|           8|          4.5|2015-06-02 02:55:56|\n",
      "|-7JSlmBJKUQwREG_y...|Bénédicte|                0|                 0|               0|                0|              0|              0|              0|             0|               0|              0|              0|     5|    1|                None|   0|     |   1|           8|          4.5|2015-06-02 02:55:56|\n",
      "+--------------------+---------+-----------------+------------------+----------------+-----------------+---------------+---------------+---------------+--------------+----------------+---------------+---------------+------+-----+--------------------+----+-----+----+------------+-------------+-------------------+\n",
      "only showing top 5 rows\n",
      "\n"
     ]
    }
   ],
   "source": [
    "df_user_valid.show(5)"
   ]
  },
  {
   "cell_type": "code",
   "execution_count": 416,
   "metadata": {},
   "outputs": [
    {
     "name": "stdout",
     "output_type": "stream",
     "text": [
      "+--------------------+--------------------+\n",
      "|             USER_ID|      FRIEND_USER_ID|\n",
      "+--------------------+--------------------+\n",
      "|-4Anvj46CWf57KWI9...|kUWW9YR-2xC9YUSav...|\n",
      "|-BUamlG3H-7yqpAl1...|nI1M9-fatJdgiSZ-v...|\n",
      "|-BUamlG3H-7yqpAl1...|KA47Ih5vwcYjAVV2X...|\n",
      "|-BUamlG3H-7yqpAl1...|RjAzmU7wGVaG3yz3L...|\n",
      "|-BUamlG3H-7yqpAl1...|xt0sVZVbUXiiP3Lc4...|\n",
      "|-BUamlG3H-7yqpAl1...|ajuHTq0d4NUJg2L0F...|\n",
      "|-BUamlG3H-7yqpAl1...|qp4DG-Id72CxXoXWC...|\n",
      "|-BUamlG3H-7yqpAl1...|p9lh9_5l1c3xEQnHz...|\n",
      "|-BUamlG3H-7yqpAl1...|M3-ye7FfdNkwGB-52...|\n",
      "|-BUamlG3H-7yqpAl1...|AZNbOt_Rm7M5LxfBb...|\n",
      "+--------------------+--------------------+\n",
      "only showing top 10 rows\n",
      "\n"
     ]
    }
   ],
   "source": [
    "df_user_friends = spark.sql('''\n",
    "                            SELECT DISTINCT\n",
    "                                USER_ID,\n",
    "                                TRIM(FRIEND_USER_ID) AS FRIEND_USER_ID\n",
    "                            FROM (SELECT \n",
    "                                    USER_ID,\n",
    "                                    EXPLODE(SPLIT(FRIENDS, ',')) AS FRIEND_USER_ID\n",
    "                                FROM \n",
    "                                    VW_USER_VALID)\n",
    "                            WHERE\n",
    "                                    FRIEND_USER_ID IS NOT NULL\n",
    "                                AND FRIEND_USER_ID <> 'None'\n",
    "                ''')\n",
    "\n",
    "df_user_friends.show(10)"
   ]
  },
  {
   "cell_type": "code",
   "execution_count": 417,
   "metadata": {},
   "outputs": [
    {
     "name": "stdout",
     "output_type": "stream",
     "text": [
      "+--------------------+-----+\n",
      "|             USER_ID|ELITE|\n",
      "+--------------------+-----+\n",
      "|-bgszoDnhaUEuVydd...| 2017|\n",
      "|-bgszoDnhaUEuVydd...| 2018|\n",
      "|0lbUv-31EVxr8isqk...| 2017|\n",
      "|0lbUv-31EVxr8isqk...| 2018|\n",
      "|1pic7w8rRsVO5GJ_q...| 2017|\n",
      "|26M4SlyVW9RCXuoWH...| 2010|\n",
      "|26M4SlyVW9RCXuoWH...| 2011|\n",
      "|26M4SlyVW9RCXuoWH...| 2012|\n",
      "|26M4SlyVW9RCXuoWH...| 2013|\n",
      "|26M4SlyVW9RCXuoWH...| 2014|\n",
      "+--------------------+-----+\n",
      "only showing top 10 rows\n",
      "\n"
     ]
    }
   ],
   "source": [
    "df_user_elites = spark.sql('''\n",
    "                            SELECT DISTINCT\n",
    "                                USER_ID,\n",
    "                                TRIM(ELITE) AS ELITE\n",
    "                            FROM (SELECT \n",
    "                                    USER_ID,\n",
    "                                    EXPLODE(SPLIT(ELITE, ',')) AS ELITE\n",
    "                                FROM \n",
    "                                    VW_USER_VALID)\n",
    "                            WHERE\n",
    "                                    ELITE IS NOT NULL\n",
    "                                AND ELITE <> 'None'\n",
    "                                AND ELITE <> ''\n",
    "                ''')\n",
    "\n",
    "df_user_elites.show(10)"
   ]
  },
  {
   "cell_type": "code",
   "execution_count": 418,
   "metadata": {},
   "outputs": [
    {
     "name": "stdout",
     "output_type": "stream",
     "text": [
      "+--------------------+-----------+-----------------+------------------+----------------+-----------------+---------------+---------------+---------------+--------------+----------------+---------------+---------------+------+-----+----+----+------------+-------------+-------------------+\n",
      "|             USER_ID|       NAME|COMPLIMENT_WRITER|COMPLIMENT_PROFILE|COMPLIMENT_PLAIN|COMPLIMENT_PHOTOS|COMPLIMENT_NOTE|COMPLIMENT_MORE|COMPLIMENT_LIST|COMPLIMENT_HOT|COMPLIMENT_FUNNY|COMPLIMENT_CUTE|COMPLIMENT_COOL|USEFUL|FUNNY|FANS|COOL|REVIEW_COUNT|AVERAGE_STARS|      YELPING_SINCE|\n",
      "+--------------------+-----------+-----------------+------------------+----------------+-----------------+---------------+---------------+---------------+--------------+----------------+---------------+---------------+------+-----+----+----+------------+-------------+-------------------+\n",
      "|-4Anvj46CWf57KWI9...|     Cookie|                0|                 0|               0|                0|              0|              0|              0|             0|               0|              0|              0|     2|    0|   1|   2|           2|          3.5|2016-08-17 14:02:45|\n",
      "|-7JSlmBJKUQwREG_y...|  Bénédicte|                0|                 0|               0|                0|              0|              0|              0|             0|               0|              0|              0|     5|    1|   0|   1|           8|          4.5|2015-06-02 02:55:56|\n",
      "|-7JSlmBJKUQwREG_y...|  Bénédicte|                0|                 0|               0|                0|              0|              0|              0|             0|               0|              0|              0|     5|    1|   0|   1|           8|          4.5|2015-06-02 02:55:56|\n",
      "|-7JSlmBJKUQwREG_y...|  Bénédicte|                0|                 0|               0|                0|              0|              0|              0|             0|               0|              0|              0|     5|    1|   0|   1|           8|          4.5|2015-06-02 02:55:56|\n",
      "|-7JSlmBJKUQwREG_y...|  Bénédicte|                0|                 0|               0|                0|              0|              0|              0|             0|               0|              0|              0|     5|    1|   0|   1|           8|          4.5|2015-06-02 02:55:56|\n",
      "|-897i_JdWyDsXGUa8...|    Michael|                0|                 0|               0|                0|              0|              0|              0|             0|               0|              0|              0|     6|    1|   1|   2|           7|         3.14|2010-12-04 03:50:16|\n",
      "|-BUamlG3H-7yqpAl1...|      Jason|                0|                 0|               0|                0|              0|              0|              0|             0|               0|              0|              0|     0|    0|   0|   0|           2|          1.5|2016-02-09 21:49:40|\n",
      "|-CGdueQKCHM_KnHxO...|Christopher|                0|                 0|               0|                0|              1|              0|              0|             0|               0|              0|              0|     1|    1|   0|   1|           4|          3.0|2011-05-16 12:43:06|\n",
      "|-JBB4-ALR07J6Pbx4...|      Josie|                0|                 0|               0|                0|              0|              0|              0|             0|               0|              0|              0|     5|    0|   0|   0|          27|         3.56|2019-03-06 05:33:58|\n",
      "|-JBB4-ALR07J6Pbx4...|      Josie|                0|                 0|               0|                0|              0|              0|              0|             0|               0|              0|              0|     5|    0|   0|   0|          27|         3.56|2019-03-06 05:33:58|\n",
      "+--------------------+-----------+-----------------+------------------+----------------+-----------------+---------------+---------------+---------------+--------------+----------------+---------------+---------------+------+-----+----+----+------------+-------------+-------------------+\n",
      "only showing top 10 rows\n",
      "\n"
     ]
    }
   ],
   "source": [
    "df_user_valid_final = df_user_valid.drop('ELITE', 'FRIENDS')\n",
    "\n",
    "df_user_valid_final.show(10)"
   ]
  },
  {
   "cell_type": "code",
   "execution_count": 419,
   "metadata": {},
   "outputs": [],
   "source": [
    "write_to_bq(df_user_valid_final, bucket_name, 'yelp_dataset', 'users')"
   ]
  },
  {
   "cell_type": "code",
   "execution_count": 420,
   "metadata": {},
   "outputs": [],
   "source": [
    "write_to_bq(df_user_friends, bucket_name, 'yelp_dataset', 'user_friends')"
   ]
  },
  {
   "cell_type": "code",
   "execution_count": 421,
   "metadata": {},
   "outputs": [],
   "source": [
    "write_to_bq(df_user_elites, bucket_name, 'yelp_dataset', 'user_elites')"
   ]
  }
 ],
 "metadata": {
  "kernelspec": {
   "display_name": "Python 3",
   "language": "python",
   "name": "python3"
  },
  "language_info": {
   "codemirror_mode": {
    "name": "ipython",
    "version": 3
   },
   "file_extension": ".py",
   "mimetype": "text/x-python",
   "name": "python",
   "nbconvert_exporter": "python",
   "pygments_lexer": "ipython3",
   "version": "3.7.4"
  }
 },
 "nbformat": 4,
 "nbformat_minor": 2
}